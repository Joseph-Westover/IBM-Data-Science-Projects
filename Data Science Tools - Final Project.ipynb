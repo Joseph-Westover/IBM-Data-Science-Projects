{
 "cells": [
  {
   "cell_type": "markdown",
   "id": "34283de5",
   "metadata": {},
   "source": [
    "# Data Science Tools and Ecosystem"
   ]
  },
  {
   "cell_type": "markdown",
   "id": "ed23a771",
   "metadata": {},
   "source": [
    "This notebook will be used to summarize what I have learned about data science tools and its ecosystem"
   ]
  },
  {
   "cell_type": "markdown",
   "id": "cfdcc6a5",
   "metadata": {},
   "source": [
    "Popular data science languages are:\n",
    "1. R\n",
    "2. Python\n",
    "3. Apache Spark"
   ]
  },
  {
   "cell_type": "markdown",
   "id": "91ff94ff",
   "metadata": {},
   "source": [
    "The most common libraries for data science are:\n",
    "1. dplyr\n",
    "2. stringr\n",
    "3. ggplot"
   ]
  },
  {
   "cell_type": "markdown",
   "id": "8d089644",
   "metadata": {},
   "source": [
    "|Data Science Tools|\n",
    "| ----- |\n",
    "| R Studio |\n",
    "| Python |\n",
    "| Jupityer Notebooks |"
   ]
  },
  {
   "cell_type": "markdown",
   "id": "9f3c8964",
   "metadata": {},
   "source": [
    "### Examples of arithmetic Python expressions:"
   ]
  },
  {
   "cell_type": "code",
   "execution_count": 1,
   "id": "e75443a9",
   "metadata": {},
   "outputs": [
    {
     "data": {
      "text/plain": [
       "17"
      ]
     },
     "execution_count": 1,
     "metadata": {},
     "output_type": "execute_result"
    }
   ],
   "source": [
    "# This line will multiply and then add integers \n",
    "(3*4)+5"
   ]
  },
  {
   "cell_type": "code",
   "execution_count": 2,
   "id": "514b8c90",
   "metadata": {},
   "outputs": [
    {
     "data": {
      "text/plain": [
       "3"
      ]
     },
     "execution_count": 2,
     "metadata": {},
     "output_type": "execute_result"
    }
   ],
   "source": [
    "#This will convert 200 min to hours by dividing by 60\n",
    "200//60"
   ]
  },
  {
   "cell_type": "markdown",
   "id": "07349a52",
   "metadata": {},
   "source": [
    "__Objectives:__\n",
    "* Cover popular data science languages\n",
    "* List most common libraries\n",
    "* Share data science tools"
   ]
  },
  {
   "cell_type": "markdown",
   "id": "058e6201",
   "metadata": {},
   "source": [
    "## Author\n",
    "Joseph Westover"
   ]
  }
 ],
 "metadata": {
  "kernelspec": {
   "display_name": "Python 3 (ipykernel)",
   "language": "python",
   "name": "python3"
  },
  "language_info": {
   "codemirror_mode": {
    "name": "ipython",
    "version": 3
   },
   "file_extension": ".py",
   "mimetype": "text/x-python",
   "name": "python",
   "nbconvert_exporter": "python",
   "pygments_lexer": "ipython3",
   "version": "3.11.3"
  }
 },
 "nbformat": 4,
 "nbformat_minor": 5
}
